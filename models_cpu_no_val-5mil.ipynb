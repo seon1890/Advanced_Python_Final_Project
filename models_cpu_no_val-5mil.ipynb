{
 "cells": [
  {
   "cell_type": "markdown",
   "metadata": {
    "id": "BjYxhderZcFM"
   },
   "source": [
    "# Imports"
   ]
  },
  {
   "cell_type": "code",
   "execution_count": 1,
   "metadata": {
    "executionInfo": {
     "elapsed": 220,
     "status": "ok",
     "timestamp": 1682967317200,
     "user": {
      "displayName": "Michael Healy",
      "userId": "01179065273416505077"
     },
     "user_tz": 240
    },
    "id": "l5j0qOeROMbU"
   },
   "outputs": [],
   "source": [
    "import pandas as pd\n",
    "import numpy as np\n",
    "from sklearn.model_selection import train_test_split\n",
    "from sklearn.linear_model import LinearRegression\n",
    "from sklearn.ensemble import RandomForestRegressor\n",
    "from xgboost import XGBRegressor\n",
    "from sklearn.metrics import mean_absolute_error, r2_score\n",
    "import time\n"
   ]
  },
  {
   "cell_type": "markdown",
   "metadata": {
    "id": "YRD-i5h4l7ck"
   },
   "source": [
    "## IF USING GOOGLE DRIVE"
   ]
  },
  {
   "cell_type": "code",
   "execution_count": 2,
   "metadata": {
    "colab": {
     "base_uri": "https://localhost:8080/"
    },
    "executionInfo": {
     "elapsed": 3725,
     "status": "ok",
     "timestamp": 1682966319326,
     "user": {
      "displayName": "Michael Healy",
      "userId": "01179065273416505077"
     },
     "user_tz": 240
    },
    "id": "5G-_xVxpl57i",
    "outputId": "f746729c-c84a-44d5-f322-7350a6d9fca1"
   },
   "outputs": [
    {
     "data": {
      "text/plain": [
       "\"\\n#Connection with Google Drive\\nfrom google.colab import drive\\ndrive.mount('/content/drive/', force_remount=True)\\n\\n#Set the current directory\\nimport os\\nos.chdir('/content/drive/My Drive/')\\n\""
      ]
     },
     "execution_count": 2,
     "metadata": {},
     "output_type": "execute_result"
    }
   ],
   "source": [
    "'''\n",
    "#Connection with Google Drive\n",
    "from google.colab import drive\n",
    "drive.mount('/content/drive/', force_remount=True)\n",
    "\n",
    "#Set the current directory\n",
    "import os\n",
    "os.chdir('/content/drive/My Drive/')\n",
    "'''"
   ]
  },
  {
   "cell_type": "markdown",
   "metadata": {
    "id": "36v921MpZd3f"
   },
   "source": [
    "# Import Data\n",
    "Data should already be preprocessed"
   ]
  },
  {
   "cell_type": "code",
   "execution_count": 3,
   "metadata": {
    "colab": {
     "base_uri": "https://localhost:8080/"
    },
    "executionInfo": {
     "elapsed": 3,
     "status": "ok",
     "timestamp": 1682966319326,
     "user": {
      "displayName": "Michael Healy",
      "userId": "01179065273416505077"
     },
     "user_tz": 240
    },
    "id": "ij7kXar6cqK8",
    "outputId": "18088c50-d319-4869-8c23-4568e83ad445"
   },
   "outputs": [
    {
     "name": "stdout",
     "output_type": "stream",
     "text": [
      "[Errno 2] No such file or directory: 'Advanced_Python_Project'\n",
      "/scratch/mbh425/my_env/Advanced_Python_Project\n"
     ]
    }
   ],
   "source": [
    "%cd Advanced_Python_Project"
   ]
  },
  {
   "cell_type": "code",
   "execution_count": 4,
   "metadata": {
    "executionInfo": {
     "elapsed": 8486,
     "status": "ok",
     "timestamp": 1682966327811,
     "user": {
      "displayName": "Michael Healy",
      "userId": "01179065273416505077"
     },
     "user_tz": 240
    },
    "id": "jGEH7tSVbDBz"
   },
   "outputs": [],
   "source": [
    "clean_df = pd.read_csv('./Data/clean_data.csv', nrows=5_000_000)"
   ]
  },
  {
   "cell_type": "code",
   "execution_count": 5,
   "metadata": {
    "executionInfo": {
     "elapsed": 386,
     "status": "ok",
     "timestamp": 1682966330820,
     "user": {
      "displayName": "Michael Healy",
      "userId": "01179065273416505077"
     },
     "user_tz": 240
    },
    "id": "tjK_3xH6a9Ea"
   },
   "outputs": [],
   "source": [
    "train_df = clean_df[clean_df['year'].isin([2009, 2010, 2011, 2012, 2013, 2014])]\n",
    "test_df = clean_df[clean_df['year'].isin([2015])]"
   ]
  },
  {
   "cell_type": "code",
   "execution_count": 6,
   "metadata": {
    "executionInfo": {
     "elapsed": 222,
     "status": "ok",
     "timestamp": 1682966331253,
     "user": {
      "displayName": "Michael Healy",
      "userId": "01179065273416505077"
     },
     "user_tz": 240
    },
    "id": "rNgkSfMLZZXI"
   },
   "outputs": [],
   "source": [
    "X_train, y_train = train_df.drop('fare_amount', axis=1), train_df['fare_amount']\n",
    "X_test, y_test = test_df.drop('fare_amount', axis=1), test_df['fare_amount']"
   ]
  },
  {
   "cell_type": "markdown",
   "metadata": {
    "id": "8YWSmR4ydBQS"
   },
   "source": [
    "# Models"
   ]
  },
  {
   "cell_type": "code",
   "execution_count": 7,
   "metadata": {
    "executionInfo": {
     "elapsed": 126,
     "status": "ok",
     "timestamp": 1682967254982,
     "user": {
      "displayName": "Michael Healy",
      "userId": "01179065273416505077"
     },
     "user_tz": 240
    },
    "id": "uad6ZekzqOir"
   },
   "outputs": [],
   "source": [
    "# To store Results\n",
    "res_df = pd.DataFrame(columns=['model', 'train_mae', 'test_mae', 'train_r2', 'test_r2', 'train_time'])"
   ]
  },
  {
   "cell_type": "markdown",
   "metadata": {
    "id": "YhgQBBhJdCrj"
   },
   "source": [
    "## Linear Regression"
   ]
  },
  {
   "cell_type": "code",
   "execution_count": 8,
   "metadata": {
    "colab": {
     "base_uri": "https://localhost:8080/"
    },
    "executionInfo": {
     "elapsed": 13761,
     "status": "ok",
     "timestamp": 1682967333297,
     "user": {
      "displayName": "Michael Healy",
      "userId": "01179065273416505077"
     },
     "user_tz": 240
    },
    "id": "G-J1Zcn4cxJn",
    "outputId": "6bc83197-6697-4849-e93f-e01da1ea1d65"
   },
   "outputs": [
    {
     "name": "stdout",
     "output_type": "stream",
     "text": [
      "Linear Regression: Train MAE: 1.9932, Test MAE: 2.3602, Train R^2: 0.7737, Test R^2: 0.7793\n",
      "Linear Regression: Train time: 30.51 seconds\n"
     ]
    }
   ],
   "source": [
    "start_time = time.time()\n",
    "\n",
    "# Initialize model\n",
    "lr = LinearRegression()\n",
    "\n",
    "# Train model\n",
    "lr.fit(X_train, y_train)\n",
    "\n",
    "# Predict on train and test data\n",
    "y_train_pred = lr.predict(X_train)\n",
    "y_test_pred = lr.predict(X_test)\n",
    "\n",
    "# Calculate metrics\n",
    "train_mae = mean_absolute_error(y_train, y_train_pred)\n",
    "test_mae = mean_absolute_error(y_test, y_test_pred)\n",
    "train_r2 = r2_score(y_train, y_train_pred)\n",
    "test_r2 = r2_score(y_test, y_test_pred)\n",
    "\n",
    "print(f\"Linear Regression: Train MAE: {train_mae:.4f}, Test MAE: {test_mae:.4f}, Train R^2: {train_r2:.4f}, Test R^2: {test_r2:.4f}\")\n",
    "print(f\"Linear Regression: Train time: {time.time() - start_time:.2f} seconds\")\n",
    "\n",
    "# Store results in the dataframe\n",
    "res_df = pd.concat([res_df, pd.DataFrame({'model': ['linear_regression'], 'train_mae': [train_mae], 'test_mae': [test_mae], 'train_r2': [train_r2], 'test_r2': [test_r2], 'train_time': [time.time() - start_time]})], ignore_index=True)\n"
   ]
  },
  {
   "cell_type": "markdown",
   "metadata": {
    "id": "OJ782gz7dFg4"
   },
   "source": [
    "## Random Forest"
   ]
  },
  {
   "cell_type": "code",
   "execution_count": 9,
   "metadata": {
    "colab": {
     "base_uri": "https://localhost:8080/"
    },
    "executionInfo": {
     "elapsed": 818420,
     "status": "ok",
     "timestamp": 1682968261485,
     "user": {
      "displayName": "Michael Healy",
      "userId": "01179065273416505077"
     },
     "user_tz": 240
    },
    "id": "ZTmcwxvmdG_r",
    "outputId": "a19e28fb-a580-484c-b883-a37cdc51f37e"
   },
   "outputs": [
    {
     "name": "stdout",
     "output_type": "stream",
     "text": [
      "Random Forest: Train MAE: 1.7098, Test MAE: 1.9167, Train R^2: 0.8326, Test R^2: 0.8377\n",
      "Random Forest: Train time: 3028.52 seconds\n"
     ]
    }
   ],
   "source": [
    "start_time = time.time()\n",
    "\n",
    "# Initialize model\n",
    "rf = RandomForestRegressor(n_estimators=100, max_depth=10)\n",
    "\n",
    "# Train model\n",
    "rf.fit(X_train, y_train)\n",
    "\n",
    "# Predict on train and test data\n",
    "y_train_pred = rf.predict(X_train)\n",
    "y_test_pred = rf.predict(X_test)\n",
    "\n",
    "# Calculate metrics\n",
    "train_mae = mean_absolute_error(y_train, y_train_pred)\n",
    "test_mae = mean_absolute_error(y_test, y_test_pred)\n",
    "train_r2 = r2_score(y_train, y_train_pred)\n",
    "test_r2 = r2_score(y_test, y_test_pred)\n",
    "\n",
    "print(f\"Random Forest: Train MAE: {train_mae:.4f}, Test MAE: {test_mae:.4f}, Train R^2: {train_r2:.4f}, Test R^2: {test_r2:.4f}\")\n",
    "print(f\"Random Forest: Train time: {time.time() - start_time:.2f} seconds\")\n",
    "\n",
    "# Store results in the dataframe\n",
    "res_df = pd.concat([res_df, pd.DataFrame({'model': ['random_forest'], 'train_mae': [train_mae], 'test_mae': [test_mae], 'train_r2': [train_r2], 'test_r2': [test_r2], 'train_time': [time.time() - start_time]})], ignore_index=True)"
   ]
  },
  {
   "cell_type": "markdown",
   "metadata": {
    "id": "SgTXkTXMdKcy"
   },
   "source": [
    "## XGBoost"
   ]
  },
  {
   "cell_type": "code",
   "execution_count": 10,
   "metadata": {
    "id": "7mPuYJ7JeCHC"
   },
   "outputs": [
    {
     "name": "stdout",
     "output_type": "stream",
     "text": [
      "[00:10:37] WARNING: ../src/learner.cc:767: \n",
      "Parameters: { \"num_round\" } are not used.\n",
      "\n",
      "XGBoost: Train MAE: 1.6331, Test MAE: 1.8610, Train R^2: 0.8491, Test R^2: 0.8471\n",
      "XGBoost: Train time: 135.56 seconds\n"
     ]
    }
   ],
   "source": [
    "start_time = time.time()\n",
    "\n",
    "# Define hyperparameters for XGBoost\n",
    "params = {\n",
    "    'objective': 'reg:squarederror',\n",
    "    'max_depth': 9,\n",
    "    'eta': 0.1,\n",
    "    'subsample': 0.5,\n",
    "    'num_round': 100,\n",
    "    'tree_method':'hist', #was gpu_hist for gpu model\n",
    "    'learning_rate': 0.3,\n",
    "    'colsample_bytree' : 1,\n",
    "    'alpha' : .01\n",
    "}\n",
    "\n",
    "# Initialize model\n",
    "xgb = XGBRegressor(**params)\n",
    "\n",
    "# Train model\n",
    "xgb.fit(X_train, y_train)\n",
    "\n",
    "# Predict on train and test data\n",
    "y_train_pred = xgb.predict(X_train)\n",
    "y_test_pred = xgb.predict(X_test)\n",
    "\n",
    "# Calculate metrics\n",
    "train_mae = mean_absolute_error(y_train, y_train_pred)\n",
    "test_mae = mean_absolute_error(y_test, y_test_pred)\n",
    "train_r2 = r2_score(y_train, y_train_pred)\n",
    "test_r2 = r2_score(y_test, y_test_pred)\n",
    "\n",
    "print(f\"XGBoost: Train MAE: {train_mae:.4f}, Test MAE: {test_mae:.4f}, Train R^2: {train_r2:.4f}, Test R^2: {test_r2:.4f}\")\n",
    "print(f\"XGBoost: Train time: {time.time() - start_time:.2f} seconds\")\n",
    "\n",
    "# Store results in the dataframe\n",
    "res_df = pd.concat([res_df, pd.DataFrame({'model': ['xgboost'], 'train_mae': [train_mae], 'test_mae': [test_mae], 'train_r2': [train_r2], 'test_r2': [test_r2], 'train_time': [time.time() - start_time]})], ignore_index=True)"
   ]
  },
  {
   "cell_type": "markdown",
   "metadata": {
    "id": "JnKQw4KOdRU8"
   },
   "source": [
    "# Results"
   ]
  },
  {
   "cell_type": "code",
   "execution_count": 11,
   "metadata": {
    "id": "7CYoPKG6dS8j"
   },
   "outputs": [
    {
     "name": "stdout",
     "output_type": "stream",
     "text": [
      "               model  train_mae  test_mae  train_r2   test_r2   train_time\n",
      "0  linear_regression   1.993208  2.360248  0.773681  0.779267    30.505146\n",
      "1      random_forest   1.709813  1.916723  0.832561  0.837747  3028.520471\n",
      "2            xgboost   1.633082  1.861046  0.849128  0.847062   135.563422\n"
     ]
    }
   ],
   "source": [
    "print(res_df)"
   ]
  },
  {
   "cell_type": "code",
   "execution_count": 14,
   "metadata": {
    "id": "drnHiJM-dXMH"
   },
   "outputs": [],
   "source": [
    "res_df.to_csv('./results/results_cpu_5mil.csv', index=False)"
   ]
  },
  {
   "cell_type": "code",
   "execution_count": null,
   "metadata": {},
   "outputs": [],
   "source": []
  }
 ],
 "metadata": {
  "colab": {
   "authorship_tag": "ABX9TyPonkVKFTqvIIfDQhGpbYv3",
   "provenance": []
  },
  "kernelspec": {
   "display_name": "my_env2",
   "language": "python",
   "name": "my_env2"
  },
  "language_info": {
   "codemirror_mode": {
    "name": "ipython",
    "version": 3
   },
   "file_extension": ".py",
   "mimetype": "text/x-python",
   "name": "python",
   "nbconvert_exporter": "python",
   "pygments_lexer": "ipython3",
   "version": "3.10.10"
  }
 },
 "nbformat": 4,
 "nbformat_minor": 4
}
