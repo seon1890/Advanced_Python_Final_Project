{
 "cells": [
  {
   "cell_type": "markdown",
   "metadata": {
    "id": "BjYxhderZcFM"
   },
   "source": [
    "# Imports"
   ]
  },
  {
   "cell_type": "code",
   "execution_count": 1,
   "metadata": {
    "executionInfo": {
     "elapsed": 220,
     "status": "ok",
     "timestamp": 1682967317200,
     "user": {
      "displayName": "Michael Healy",
      "userId": "01179065273416505077"
     },
     "user_tz": 240
    },
    "id": "l5j0qOeROMbU"
   },
   "outputs": [],
   "source": [
    "import pandas as pd\n",
    "import numpy as np\n",
    "from sklearn.model_selection import train_test_split\n",
    "from sklearn.linear_model import LinearRegression\n",
    "from sklearn.ensemble import RandomForestRegressor\n",
    "from xgboost import XGBRegressor\n",
    "from sklearn.metrics import mean_absolute_error, r2_score\n",
    "import time\n"
   ]
  },
  {
   "cell_type": "markdown",
   "metadata": {
    "id": "YRD-i5h4l7ck"
   },
   "source": [
    "## IF USING GOOGLE DRIVE"
   ]
  },
  {
   "cell_type": "code",
   "execution_count": 2,
   "metadata": {
    "colab": {
     "base_uri": "https://localhost:8080/"
    },
    "executionInfo": {
     "elapsed": 3725,
     "status": "ok",
     "timestamp": 1682966319326,
     "user": {
      "displayName": "Michael Healy",
      "userId": "01179065273416505077"
     },
     "user_tz": 240
    },
    "id": "5G-_xVxpl57i",
    "outputId": "f746729c-c84a-44d5-f322-7350a6d9fca1"
   },
   "outputs": [
    {
     "data": {
      "text/plain": [
       "\"\\n#Connection with Google Drive\\nfrom google.colab import drive\\ndrive.mount('/content/drive/', force_remount=True)\\n\\n#Set the current directory\\nimport os\\nos.chdir('/content/drive/My Drive/')\\n\""
      ]
     },
     "execution_count": 2,
     "metadata": {},
     "output_type": "execute_result"
    }
   ],
   "source": [
    "'''\n",
    "#Connection with Google Drive\n",
    "from google.colab import drive\n",
    "drive.mount('/content/drive/', force_remount=True)\n",
    "\n",
    "#Set the current directory\n",
    "import os\n",
    "os.chdir('/content/drive/My Drive/')\n",
    "'''"
   ]
  },
  {
   "cell_type": "markdown",
   "metadata": {
    "id": "36v921MpZd3f"
   },
   "source": [
    "# Import Data\n",
    "Data should already be preprocessed"
   ]
  },
  {
   "cell_type": "code",
   "execution_count": 3,
   "metadata": {
    "colab": {
     "base_uri": "https://localhost:8080/"
    },
    "executionInfo": {
     "elapsed": 3,
     "status": "ok",
     "timestamp": 1682966319326,
     "user": {
      "displayName": "Michael Healy",
      "userId": "01179065273416505077"
     },
     "user_tz": 240
    },
    "id": "ij7kXar6cqK8",
    "outputId": "18088c50-d319-4869-8c23-4568e83ad445"
   },
   "outputs": [
    {
     "name": "stdout",
     "output_type": "stream",
     "text": [
      "[Errno 2] No such file or directory: 'Advanced_Python_Project'\n",
      "/scratch/mbh425/my_env/Advanced_Python_Project\n"
     ]
    }
   ],
   "source": [
    "%cd Advanced_Python_Project"
   ]
  },
  {
   "cell_type": "code",
   "execution_count": 4,
   "metadata": {
    "executionInfo": {
     "elapsed": 8486,
     "status": "ok",
     "timestamp": 1682966327811,
     "user": {
      "displayName": "Michael Healy",
      "userId": "01179065273416505077"
     },
     "user_tz": 240
    },
    "id": "jGEH7tSVbDBz"
   },
   "outputs": [],
   "source": [
    "clean_df = pd.read_csv('./Data/clean_data.csv')"
   ]
  },
  {
   "cell_type": "code",
   "execution_count": 5,
   "metadata": {
    "executionInfo": {
     "elapsed": 386,
     "status": "ok",
     "timestamp": 1682966330820,
     "user": {
      "displayName": "Michael Healy",
      "userId": "01179065273416505077"
     },
     "user_tz": 240
    },
    "id": "tjK_3xH6a9Ea"
   },
   "outputs": [],
   "source": [
    "train_df = clean_df[clean_df['year'].isin([2009, 2010, 2011, 2012, 2013, 2014])]\n",
    "test_df = clean_df[clean_df['year'].isin([2015])]"
   ]
  },
  {
   "cell_type": "code",
   "execution_count": 6,
   "metadata": {
    "executionInfo": {
     "elapsed": 222,
     "status": "ok",
     "timestamp": 1682966331253,
     "user": {
      "displayName": "Michael Healy",
      "userId": "01179065273416505077"
     },
     "user_tz": 240
    },
    "id": "rNgkSfMLZZXI"
   },
   "outputs": [],
   "source": [
    "X_train, y_train = train_df.drop('fare_amount', axis=1), train_df['fare_amount']\n",
    "X_test, y_test = test_df.drop('fare_amount', axis=1), test_df['fare_amount']"
   ]
  },
  {
   "cell_type": "markdown",
   "metadata": {
    "id": "8YWSmR4ydBQS"
   },
   "source": [
    "# Models"
   ]
  },
  {
   "cell_type": "code",
   "execution_count": 7,
   "metadata": {
    "executionInfo": {
     "elapsed": 126,
     "status": "ok",
     "timestamp": 1682967254982,
     "user": {
      "displayName": "Michael Healy",
      "userId": "01179065273416505077"
     },
     "user_tz": 240
    },
    "id": "uad6ZekzqOir"
   },
   "outputs": [],
   "source": [
    "# To store Results\n",
    "res_df = pd.DataFrame(columns=['model', 'train_mae', 'test_mae', 'train_r2', 'test_r2', 'train_time'])"
   ]
  },
  {
   "cell_type": "markdown",
   "metadata": {
    "id": "YhgQBBhJdCrj"
   },
   "source": [
    "## Linear Regression"
   ]
  },
  {
   "cell_type": "code",
   "execution_count": 8,
   "metadata": {
    "colab": {
     "base_uri": "https://localhost:8080/"
    },
    "executionInfo": {
     "elapsed": 13761,
     "status": "ok",
     "timestamp": 1682967333297,
     "user": {
      "displayName": "Michael Healy",
      "userId": "01179065273416505077"
     },
     "user_tz": 240
    },
    "id": "G-J1Zcn4cxJn",
    "outputId": "6bc83197-6697-4849-e93f-e01da1ea1d65"
   },
   "outputs": [
    {
     "name": "stdout",
     "output_type": "stream",
     "text": [
      "Linear Regression: Train MAE: 1.9943, Test MAE: 2.3595, Train R^2: 0.7731, Test R^2: 0.7790\n",
      "Linear Regression: Train time: 268.63 seconds\n"
     ]
    }
   ],
   "source": [
    "start_time = time.time()\n",
    "\n",
    "# Initialize model\n",
    "lr = LinearRegression()\n",
    "\n",
    "# Train model\n",
    "lr.fit(X_train, y_train)\n",
    "\n",
    "# Predict on train and test data\n",
    "y_train_pred = lr.predict(X_train)\n",
    "y_test_pred = lr.predict(X_test)\n",
    "\n",
    "# Calculate metrics\n",
    "train_mae = mean_absolute_error(y_train, y_train_pred)\n",
    "test_mae = mean_absolute_error(y_test, y_test_pred)\n",
    "train_r2 = r2_score(y_train, y_train_pred)\n",
    "test_r2 = r2_score(y_test, y_test_pred)\n",
    "\n",
    "print(f\"Linear Regression: Train MAE: {train_mae:.4f}, Test MAE: {test_mae:.4f}, Train R^2: {train_r2:.4f}, Test R^2: {test_r2:.4f}\")\n",
    "print(f\"Linear Regression: Train time: {time.time() - start_time:.2f} seconds\")\n",
    "\n",
    "# Store results in the dataframe\n",
    "res_df = pd.concat([res_df, pd.DataFrame({'model': ['linear_regression'], 'train_mae': [train_mae], 'test_mae': [test_mae], 'train_r2': [train_r2], 'test_r2': [test_r2], 'train_time': [time.time() - start_time]})], ignore_index=True)\n"
   ]
  },
  {
   "cell_type": "markdown",
   "metadata": {
    "id": "OJ782gz7dFg4"
   },
   "source": [
    "## Random Forest"
   ]
  },
  {
   "cell_type": "code",
   "execution_count": null,
   "metadata": {
    "colab": {
     "base_uri": "https://localhost:8080/"
    },
    "executionInfo": {
     "elapsed": 818420,
     "status": "ok",
     "timestamp": 1682968261485,
     "user": {
      "displayName": "Michael Healy",
      "userId": "01179065273416505077"
     },
     "user_tz": 240
    },
    "id": "ZTmcwxvmdG_r",
    "outputId": "a19e28fb-a580-484c-b883-a37cdc51f37e"
   },
   "outputs": [],
   "source": [
    "start_time = time.time()\n",
    "\n",
    "# Initialize model\n",
    "rf = RandomForestRegressor(n_estimators=100, max_depth=10)\n",
    "\n",
    "# Train model\n",
    "rf.fit(X_train, y_train)\n",
    "\n",
    "# Predict on train and test data\n",
    "y_train_pred = rf.predict(X_train)\n",
    "y_test_pred = rf.predict(X_test)\n",
    "\n",
    "# Calculate metrics\n",
    "train_mae = mean_absolute_error(y_train, y_train_pred)\n",
    "test_mae = mean_absolute_error(y_test, y_test_pred)\n",
    "train_r2 = r2_score(y_train, y_train_pred)\n",
    "test_r2 = r2_score(y_test, y_test_pred)\n",
    "\n",
    "print(f\"Random Forest: Train MAE: {train_mae:.4f}, Test MAE: {test_mae:.4f}, Train R^2: {train_r2:.4f}, Test R^2: {test_r2:.4f}\")\n",
    "print(f\"Random Forest: Train time: {time.time() - start_time:.2f} seconds\")\n",
    "\n",
    "# Store results in the dataframe\n",
    "res_df = pd.concat([res_df, pd.DataFrame({'model': ['random_forest'], 'train_mae': [train_mae], 'test_mae': [test_mae], 'train_r2': [train_r2], 'test_r2': [test_r2], 'train_time': [time.time() - start_time]})], ignore_index=True)"
   ]
  },
  {
   "cell_type": "markdown",
   "metadata": {
    "id": "SgTXkTXMdKcy"
   },
   "source": [
    "## XGBoost"
   ]
  },
  {
   "cell_type": "code",
   "execution_count": null,
   "metadata": {
    "id": "7mPuYJ7JeCHC"
   },
   "outputs": [],
   "source": [
    "start_time = time.time()\n",
    "\n",
    "# Define hyperparameters for XGBoost\n",
    "params = {\n",
    "    'objective': 'reg:squarederror',\n",
    "    'max_depth': 9,\n",
    "    'eta': 0.1,\n",
    "    'subsample': 0.5,\n",
    "    'num_round': 100,\n",
    "    'tree_method':'hist', #was gpu_hist for gpu model\n",
    "    'learning_rate': 0.3,\n",
    "    'colsample_bytree' : 1,\n",
    "    'alpha' : .01\n",
    "}\n",
    "\n",
    "# Initialize model\n",
    "xgb = XGBRegressor(**params)\n",
    "\n",
    "# Train model\n",
    "xgb.fit(X_train, y_train)\n",
    "\n",
    "# Predict on train and test data\n",
    "y_train_pred = xgb.predict(X_train)\n",
    "y_test_pred = xgb.predict(X_test)\n",
    "\n",
    "# Calculate metrics\n",
    "train_mae = mean_absolute_error(y_train, y_train_pred)\n",
    "test_mae = mean_absolute_error(y_test, y_test_pred)\n",
    "train_r2 = r2_score(y_train, y_train_pred)\n",
    "test_r2 = r2_score(y_test, y_test_pred)\n",
    "\n",
    "print(f\"XGBoost: Train MAE: {train_mae:.4f}, Test MAE: {test_mae:.4f}, Train R^2: {train_r2:.4f}, Test R^2: {test_r2:.4f}\")\n",
    "print(f\"XGBoost: Train time: {time.time() - start_time:.2f} seconds\")\n",
    "\n",
    "# Store results in the dataframe\n",
    "res_df = pd.concat([res_df, pd.DataFrame({'model': ['xgboost'], 'train_mae': [train_mae], 'test_mae': [test_mae], 'train_r2': [train_r2], 'test_r2': [test_r2], 'train_time': [time.time() - start_time]})], ignore_index=True)"
   ]
  },
  {
   "cell_type": "markdown",
   "metadata": {
    "id": "JnKQw4KOdRU8"
   },
   "source": [
    "# Results"
   ]
  },
  {
   "cell_type": "code",
   "execution_count": null,
   "metadata": {
    "id": "7CYoPKG6dS8j"
   },
   "outputs": [],
   "source": [
    "print(res_df)"
   ]
  },
  {
   "cell_type": "code",
   "execution_count": null,
   "metadata": {
    "id": "drnHiJM-dXMH"
   },
   "outputs": [],
   "source": [
    "res_df.to_csv('Advanced_Python_Project/results/results_cpu_full.csv', index=False)"
   ]
  }
 ],
 "metadata": {
  "colab": {
   "authorship_tag": "ABX9TyPonkVKFTqvIIfDQhGpbYv3",
   "provenance": []
  },
  "kernelspec": {
   "display_name": "rapids",
   "language": "python",
   "name": "rapids"
  },
  "language_info": {
   "codemirror_mode": {
    "name": "ipython",
    "version": 3
   },
   "file_extension": ".py",
   "mimetype": "text/x-python",
   "name": "python",
   "nbconvert_exporter": "python",
   "pygments_lexer": "ipython3",
   "version": "3.10.10"
  }
 },
 "nbformat": 4,
 "nbformat_minor": 4
}
